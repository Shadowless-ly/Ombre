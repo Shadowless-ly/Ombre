{
 "cells": [
  {
   "cell_type": "code",
   "execution_count": 9,
   "metadata": {
    "scrolled": false
   },
   "outputs": [
    {
     "name": "stdout",
     "output_type": "stream",
     "text": [
      "[client]\n",
      "port = 3306\n",
      "user = mysql\n",
      "password = mysql\n",
      "host = 127.0.0.1\n",
      "\n",
      "[mysqld]\n",
      "basedir = /usr\n",
      "datadir = /var/lib/mysql\n",
      "tmpdir = /tmp\n",
      "skip-external-locking\n",
      "\n",
      "[test]\n",
      "host = localhost\n",
      "passwd = 123456\n",
      "\t[test1]\n",
      "\thost1 = localhost\n",
      "\tpasswd1 = 123456\n",
      "\n"
     ]
    }
   ],
   "source": [
    "import sys\n",
    "cf.write(sys.stdout)"
   ]
  },
  {
   "cell_type": "code",
   "execution_count": 8,
   "metadata": {
    "scrolled": true
   },
   "outputs": [
    {
     "data": {
      "text/plain": [
       "['config.ini']"
      ]
     },
     "execution_count": 8,
     "metadata": {},
     "output_type": "execute_result"
    }
   ],
   "source": [
    "import configparser\n",
    "\n",
    "cf = configparser.ConfigParser(allow_no_value=True)\n",
    "cf.read(\"config.ini\")\n",
    "cf.getboo9l"
   ]
  }
 ],
 "metadata": {
  "kernelspec": {
   "display_name": "Python 3",
   "language": "python",
   "name": "python3"
  },
  "language_info": {
   "codemirror_mode": {
    "name": "ipython",
    "version": 3
   },
   "file_extension": ".py",
   "mimetype": "text/x-python",
   "name": "python",
   "nbconvert_exporter": "python",
   "pygments_lexer": "ipython3",
   "version": "3.6.5"
  }
 },
 "nbformat": 4,
 "nbformat_minor": 2
}
